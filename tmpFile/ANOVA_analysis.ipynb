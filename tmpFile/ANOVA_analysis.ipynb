{
 "cells": [
  {
   "cell_type": "markdown",
   "id": "8b1cfb77",
   "metadata": {},
   "source": [
    "# Two‐Way ANOVA and Local Marker Analysis\n",
    "\n",
    "This notebook:\n",
    "1. Performs a two‐way ANOVA on per‐frame angle‐prediction errors across four global pipelines:\n",
    "   - Plain ArUco (no Kalman)\n",
    "   - ArUco + Kalman\n",
    "   - QC (no Kalman)\n",
    "   - QC + Kalman  \n",
    "   with factors:\n",
    "   - **Algorithm**: Plain vs QC\n",
    "   - **Kalman**: No vs Yes  \n",
    "2. Explains the ANOVA results.  \n",
    "3. Performs a one‐way ANOVA across markers to identify which marker behaves best (local analysis).  \n",
    "4. Provides interpretation of the outputs.  \n"
   ]
  },
  {
   "cell_type": "markdown",
   "id": "6166b962",
   "metadata": {},
   "source": [
    "## 1. Imports\n",
    "\n",
    "Import necessary Python libraries.\n"
   ]
  },
  {
   "cell_type": "code",
   "id": "b7f150b3",
   "metadata": {
    "ExecuteTime": {
     "end_time": "2025-06-05T02:10:33.264030Z",
     "start_time": "2025-06-05T02:10:32.074341Z"
    }
   },
   "source": [
    "import pandas as pd\n",
    "import numpy as np\n",
    "import cv2\n",
    "from sklearn.linear_model import LinearRegression\n",
    "import statsmodels.api as sm\n",
    "from statsmodels.formula.api import ols\n",
    "from scipy.stats import f_oneway\n",
    "%matplotlib inline\n"
   ],
   "outputs": [],
   "execution_count": 1
  },
  {
   "cell_type": "markdown",
   "id": "26381f66",
   "metadata": {},
   "source": [
    "## 2. Load Ground Truth & Extract Euler Angles\n",
    "\n",
    "Load the ground truth CSV (`6DoF_annotated_poses.csv`) and convert its Rodrigues vectors (`rglob_x, rglob_y, rglob_z`) to Euler angles (roll, pitch, yaw) in degrees.  \n",
    "\n",
    "The ZYX‐convention formulas are:\n",
    "$$\n",
    "\\mathbf{R} = \\mathrm{Rodrigues}(r),\n",
    "\\quad\n",
    "\\text{roll} = \\atan2(R_{2,1}, R_{2,2}),\n",
    "\\quad\n",
    "\\text{pitch} = \\atan2(-R_{2,0}, \\sqrt{R_{0,0}^2 + R_{1,0}^2}),\n",
    "\\quad\n",
    "\\text{yaw} = \\atan2(R_{1,0}, R_{0,0}).\n",
    "$$\n",
    "\n",
    "If $\\sqrt{R_{0,0}^2 + R_{1,0}^2} < 10^{-6}$ (near gimbal lock), set $\\text{yaw}=0$ and compute roll/pitch via an alternate formula.\n"
   ]
  },
  {
   "cell_type": "code",
   "id": "5c915685",
   "metadata": {
    "ExecuteTime": {
     "end_time": "2025-06-05T02:10:44.091145Z",
     "start_time": "2025-06-05T02:10:44.054685Z"
    }
   },
   "source": [
    "def load_gt(gt_path):\n",
    "    df = pd.read_csv(gt_path)\n",
    "    required = {'frame', 'rglob_x', 'rglob_y', 'rglob_z', 'input_angle'}\n",
    "    missing = required - set(df.columns)\n",
    "    if missing:\n",
    "        raise ValueError(f\"GT missing columns: {missing}\")\n",
    "    return df\n",
    "\n",
    "def extract_euler(df):\n",
    "    df_u = df.drop_duplicates('frame').reset_index(drop=True)\n",
    "    rvecs = df_u[['rglob_x', 'rglob_y', 'rglob_z']].to_numpy(dtype=np.float32)\n",
    "    rolls, pitches, yaws = [], [], []\n",
    "    for r in rvecs:\n",
    "        R, _ = cv2.Rodrigues(r)\n",
    "        sy = np.sqrt(R[0,0]**2 + R[1,0]**2)\n",
    "        if sy > 1e-6:\n",
    "            roll  = np.degrees(np.arctan2(R[2,1], R[2,2]))\n",
    "            pitch = np.degrees(np.arctan2(-R[2,0], sy))\n",
    "            yaw   = np.degrees(np.arctan2(R[1,0], R[0,0]))\n",
    "        else:\n",
    "            roll  = np.degrees(np.arctan2(-R[1,2], R[1,1]))\n",
    "            pitch = np.degrees(np.arctan2(-R[2,0], sy))\n",
    "            yaw   = 0.0\n",
    "        rolls.append(roll)\n",
    "        pitches.append(pitch)\n",
    "        yaws.append(yaw)\n",
    "    return pd.DataFrame({'frame': df_u['frame'], 'input_angle': df_u['input_angle'],\n",
    "                         'roll_gt': rolls, 'pitch_gt': pitches, 'yaw_gt': yaws})\n",
    "\n",
    "# Load GT\n",
    "gt_path = '../CSVs/6DoF_annotated_poses.csv'\n",
    "df_gt = load_gt(gt_path)\n",
    "df_angles = extract_euler(df_gt)\n",
    "df_angles.head()\n"
   ],
   "outputs": [
    {
     "data": {
      "text/plain": [
       "   frame  input_angle     roll_gt   pitch_gt     yaw_gt\n",
       "0      0        120.0 -116.520302 -10.361492 -34.930893\n",
       "1      1        120.0 -116.304588 -10.342566 -34.908001\n",
       "2      2        120.0 -116.316025 -10.320197 -34.871689\n",
       "3      3        119.0 -116.462685 -10.310642 -34.966785\n",
       "4      4        119.0 -116.315163 -10.241025 -34.883057"
      ],
      "text/html": [
       "<div>\n",
       "<style scoped>\n",
       "    .dataframe tbody tr th:only-of-type {\n",
       "        vertical-align: middle;\n",
       "    }\n",
       "\n",
       "    .dataframe tbody tr th {\n",
       "        vertical-align: top;\n",
       "    }\n",
       "\n",
       "    .dataframe thead th {\n",
       "        text-align: right;\n",
       "    }\n",
       "</style>\n",
       "<table border=\"1\" class=\"dataframe\">\n",
       "  <thead>\n",
       "    <tr style=\"text-align: right;\">\n",
       "      <th></th>\n",
       "      <th>frame</th>\n",
       "      <th>input_angle</th>\n",
       "      <th>roll_gt</th>\n",
       "      <th>pitch_gt</th>\n",
       "      <th>yaw_gt</th>\n",
       "    </tr>\n",
       "  </thead>\n",
       "  <tbody>\n",
       "    <tr>\n",
       "      <th>0</th>\n",
       "      <td>0</td>\n",
       "      <td>120.0</td>\n",
       "      <td>-116.520302</td>\n",
       "      <td>-10.361492</td>\n",
       "      <td>-34.930893</td>\n",
       "    </tr>\n",
       "    <tr>\n",
       "      <th>1</th>\n",
       "      <td>1</td>\n",
       "      <td>120.0</td>\n",
       "      <td>-116.304588</td>\n",
       "      <td>-10.342566</td>\n",
       "      <td>-34.908001</td>\n",
       "    </tr>\n",
       "    <tr>\n",
       "      <th>2</th>\n",
       "      <td>2</td>\n",
       "      <td>120.0</td>\n",
       "      <td>-116.316025</td>\n",
       "      <td>-10.320197</td>\n",
       "      <td>-34.871689</td>\n",
       "    </tr>\n",
       "    <tr>\n",
       "      <th>3</th>\n",
       "      <td>3</td>\n",
       "      <td>119.0</td>\n",
       "      <td>-116.462685</td>\n",
       "      <td>-10.310642</td>\n",
       "      <td>-34.966785</td>\n",
       "    </tr>\n",
       "    <tr>\n",
       "      <th>4</th>\n",
       "      <td>4</td>\n",
       "      <td>119.0</td>\n",
       "      <td>-116.315163</td>\n",
       "      <td>-10.241025</td>\n",
       "      <td>-34.883057</td>\n",
       "    </tr>\n",
       "  </tbody>\n",
       "</table>\n",
       "</div>"
      ]
     },
     "execution_count": 2,
     "metadata": {},
     "output_type": "execute_result"
    }
   ],
   "execution_count": 2
  },
  {
   "cell_type": "markdown",
   "id": "67381a4c",
   "metadata": {},
   "source": [
    "## 3. Global Pipelines: Compute Errors & Two‐Way ANOVA\n",
    "\n",
    "We have four global pipelines:\n",
    "- **Plain_NoKalman**: `plain_aruco_global.csv` (Plain ArUco, no Kalman)  \n",
    "- **Plain_Kalman**: `aruco_kalman_global.csv` (Plain ArUco, with Kalman)  \n",
    "- **QC_NoKalman**: `qc_global.csv` (Quality‐Controlled, no Kalman)  \n",
    "- **QC_Kalman**: `qc_kalman_global.csv` (Quality‐Controlled, with Kalman)  \n",
    "\n",
    "**Pipeline regression equation:**  \n",
    "$$\n",
    "\\text{input\\_angle} \\approx a\\,\\text{roll}_{\\text{pred}} + b\\,\\text{pitch}_{\\text{pred}} + c\\,\\text{yaw}_{\\text{pred}} + d.\n",
    "$$\n",
    "\n",
    "For each pipeline:\n",
    "1. Merge predicted `(roll, pitch, yaw)` with `df_angles` on `frame`.  \n",
    "2. Fit the above linear model.  \n",
    "3. Compute `error = \\text{pred\\_angle} - \\text{input\\_angle}`.  \n",
    "4. Tag each row with:\n",
    "   - `algorithm`: “Plain” or “QC”  \n",
    "   - `kalman`: “No” or “Yes”  \n",
    "5. Combine all pipelines into a single DataFrame for ANOVA.\n",
    "\n",
    "**Two‐Way ANOVA model:**\n",
    "$$\n",
    "error_{ijk} = \\mu + \\alpha_i + \\beta_j + (\\alpha\\beta)_{ij} + \\varepsilon_{ijk},\n",
    "$$\n",
    "where:\n",
    "- $i \\in \\{\\text{Plain}, \\text{QC}\\}$ (Algorithm)  \n",
    "- $j \\in \\{\\text{No}, \\text{Yes}\\}$ (Kalman)  \n",
    "- $(\\alpha\\beta)_{ij}$ is the interaction term  \n",
    "- $\\varepsilon_{ijk}$ are residuals  \n"
   ]
  },
  {
   "cell_type": "code",
   "id": "773bf96a",
   "metadata": {
    "ExecuteTime": {
     "end_time": "2025-06-05T02:12:09.861157Z",
     "start_time": "2025-06-05T02:12:09.831156Z"
    }
   },
   "source": [
    "pipelines = {\n",
    "    'Plain_NoKalman': ('plain_aruco_global.csv', 'Plain', 'No'),\n",
    "    'Plain_Kalman':   ('aruco_kalman_global.csv', 'Plain', 'Yes'),\n",
    "    'QC_NoKalman':    ('qc_global.csv', 'QC', 'No'),\n",
    "    'QC_Kalman':      ('qc_kalman_global.csv', 'QC', 'Yes')\n",
    "}\n",
    "\n",
    "combined_rows = []\n",
    "for name, (path, algo, kal) in pipelines.items():\n",
    "    df_pred = pd.read_csv(path)\n",
    "    # Merge on 'frame'\n",
    "    df_merge = pd.merge(df_angles, df_pred[['frame','roll','pitch','yaw']], on='frame')\n",
    "    df_merge = df_merge.rename(columns={'roll':'roll_pred', 'pitch':'pitch_pred', 'yaw':'yaw_pred'})\n",
    "    # Fit regression\n",
    "    X = df_merge[['roll_pred','pitch_pred','yaw_pred']].to_numpy()\n",
    "    y = df_merge['input_angle'].to_numpy()\n",
    "    model = LinearRegression().fit(X, y)\n",
    "    df_merge['pred_angle'] = model.predict(X)\n",
    "    df_merge['error'] = df_merge['pred_angle'] - df_merge['input_angle']\n",
    "    # Tag categories\n",
    "    df_merge['algorithm'] = algo\n",
    "    df_merge['kalman'] = kal\n",
    "    combined_rows.append(df_merge[['frame','error','algorithm','kalman']])\n",
    "\n",
    "df_combined = pd.concat(combined_rows, ignore_index=True)\n",
    "df_combined.head()\n"
   ],
   "outputs": [
    {
     "data": {
      "text/plain": [
       "   frame     error algorithm kalman\n",
       "0      1 -1.342285     Plain     No\n",
       "1      2 -1.444160     Plain     No\n",
       "2      3 -0.471801     Plain     No\n",
       "3      4 -0.323887     Plain     No\n",
       "4      5 -0.451797     Plain     No"
      ],
      "text/html": [
       "<div>\n",
       "<style scoped>\n",
       "    .dataframe tbody tr th:only-of-type {\n",
       "        vertical-align: middle;\n",
       "    }\n",
       "\n",
       "    .dataframe tbody tr th {\n",
       "        vertical-align: top;\n",
       "    }\n",
       "\n",
       "    .dataframe thead th {\n",
       "        text-align: right;\n",
       "    }\n",
       "</style>\n",
       "<table border=\"1\" class=\"dataframe\">\n",
       "  <thead>\n",
       "    <tr style=\"text-align: right;\">\n",
       "      <th></th>\n",
       "      <th>frame</th>\n",
       "      <th>error</th>\n",
       "      <th>algorithm</th>\n",
       "      <th>kalman</th>\n",
       "    </tr>\n",
       "  </thead>\n",
       "  <tbody>\n",
       "    <tr>\n",
       "      <th>0</th>\n",
       "      <td>1</td>\n",
       "      <td>-1.342285</td>\n",
       "      <td>Plain</td>\n",
       "      <td>No</td>\n",
       "    </tr>\n",
       "    <tr>\n",
       "      <th>1</th>\n",
       "      <td>2</td>\n",
       "      <td>-1.444160</td>\n",
       "      <td>Plain</td>\n",
       "      <td>No</td>\n",
       "    </tr>\n",
       "    <tr>\n",
       "      <th>2</th>\n",
       "      <td>3</td>\n",
       "      <td>-0.471801</td>\n",
       "      <td>Plain</td>\n",
       "      <td>No</td>\n",
       "    </tr>\n",
       "    <tr>\n",
       "      <th>3</th>\n",
       "      <td>4</td>\n",
       "      <td>-0.323887</td>\n",
       "      <td>Plain</td>\n",
       "      <td>No</td>\n",
       "    </tr>\n",
       "    <tr>\n",
       "      <th>4</th>\n",
       "      <td>5</td>\n",
       "      <td>-0.451797</td>\n",
       "      <td>Plain</td>\n",
       "      <td>No</td>\n",
       "    </tr>\n",
       "  </tbody>\n",
       "</table>\n",
       "</div>"
      ]
     },
     "execution_count": 3,
     "metadata": {},
     "output_type": "execute_result"
    }
   ],
   "execution_count": 3
  },
  {
   "cell_type": "markdown",
   "id": "52c70e0e",
   "metadata": {},
   "source": [
    "### 3.1 Two‐Way ANOVA\n",
    "\n",
    "We fit the model:\n",
    "$$\n",
    "error \\sim C(algorithm) + C(kalman) + C(algorithm):C(kalman).\n",
    "$$\n"
   ]
  },
  {
   "cell_type": "code",
   "id": "d1849578",
   "metadata": {
    "ExecuteTime": {
     "end_time": "2025-06-05T02:12:24.198684Z",
     "start_time": "2025-06-05T02:12:24.169681Z"
    }
   },
   "source": [
    "model = ols('error ~ C(algorithm) + C(kalman) + C(algorithm):C(kalman)', data=df_combined).fit()\n",
    "anova_results = sm.stats.anova_lm(model, typ=2)\n",
    "print(\"### Two‐Way ANOVA Table (Global Pipelines)\")\n",
    "anova_results\n"
   ],
   "outputs": [
    {
     "name": "stdout",
     "output_type": "stream",
     "text": [
      "### Two‐Way ANOVA Table (Global Pipelines)\n"
     ]
    },
    {
     "data": {
      "text/plain": [
       "                              sum_sq      df             F  PR(>F)\n",
       "C(algorithm)            2.170955e-25     1.0  5.183436e-26     1.0\n",
       "C(kalman)               4.400535e-29     1.0  1.050684e-29     1.0\n",
       "C(algorithm):C(kalman)  2.838738e-29     1.0  6.777854e-30     1.0\n",
       "Residual                4.372539e+03  1044.0           NaN     NaN"
      ],
      "text/html": [
       "<div>\n",
       "<style scoped>\n",
       "    .dataframe tbody tr th:only-of-type {\n",
       "        vertical-align: middle;\n",
       "    }\n",
       "\n",
       "    .dataframe tbody tr th {\n",
       "        vertical-align: top;\n",
       "    }\n",
       "\n",
       "    .dataframe thead th {\n",
       "        text-align: right;\n",
       "    }\n",
       "</style>\n",
       "<table border=\"1\" class=\"dataframe\">\n",
       "  <thead>\n",
       "    <tr style=\"text-align: right;\">\n",
       "      <th></th>\n",
       "      <th>sum_sq</th>\n",
       "      <th>df</th>\n",
       "      <th>F</th>\n",
       "      <th>PR(&gt;F)</th>\n",
       "    </tr>\n",
       "  </thead>\n",
       "  <tbody>\n",
       "    <tr>\n",
       "      <th>C(algorithm)</th>\n",
       "      <td>2.170955e-25</td>\n",
       "      <td>1.0</td>\n",
       "      <td>5.183436e-26</td>\n",
       "      <td>1.0</td>\n",
       "    </tr>\n",
       "    <tr>\n",
       "      <th>C(kalman)</th>\n",
       "      <td>4.400535e-29</td>\n",
       "      <td>1.0</td>\n",
       "      <td>1.050684e-29</td>\n",
       "      <td>1.0</td>\n",
       "    </tr>\n",
       "    <tr>\n",
       "      <th>C(algorithm):C(kalman)</th>\n",
       "      <td>2.838738e-29</td>\n",
       "      <td>1.0</td>\n",
       "      <td>6.777854e-30</td>\n",
       "      <td>1.0</td>\n",
       "    </tr>\n",
       "    <tr>\n",
       "      <th>Residual</th>\n",
       "      <td>4.372539e+03</td>\n",
       "      <td>1044.0</td>\n",
       "      <td>NaN</td>\n",
       "      <td>NaN</td>\n",
       "    </tr>\n",
       "  </tbody>\n",
       "</table>\n",
       "</div>"
      ]
     },
     "execution_count": 4,
     "metadata": {},
     "output_type": "execute_result"
    }
   ],
   "execution_count": 4
  },
  {
   "cell_type": "markdown",
   "id": "888e49df",
   "metadata": {},
   "source": [
    "### 3.2 Interpretation of Two‐Way ANOVA Results\n",
    "\n",
    "Below is an example of the ANOVA output you might see:\n",
    "\n",
    "| Source                         | sum_sq    | df | F        | PR(>F) |\n",
    "| ------------------------------ | --------- | -- | -------- | ------ |\n",
    "| C(algorithm)                   | 2.17e-25  | 1  | 5.18e-26 | 1.0000 |\n",
    "| C(kalman)                      | 4.60e-29  | 1  | 1.05e-29 | 1.0000 |\n",
    "| C(algorithm):C(kalman)         | 2.84e-29  | 1  | 6.78e-30 | 1.0000 |\n",
    "| Residual                       | 4.37e+03  | 1044 | —      | —     |\n",
    "\n",
    "- **sum_sq** close to zero for each factor means that switching between Plain vs QC or No vs Yes‐Kalman explains virtually no variance in the error.  \n",
    "- **F**‐statistics are essentially zero, and **PR(>F)** (p‐values) are 1.000, signifying no significant effect of either factor or their interaction.  \n",
    "- **Residual** sum of squares (~4372) is the total unexplained variance, dominating the table.  \n",
    "\n",
    "**Conclusion:**  \n",
    "> All four pipelines (Plain_NoKalman, Plain_Kalman, QC_NoKalman, QC_Kalman) have statistically identical error distributions. Neither “Algorithm” nor “Kalman” (nor their interaction) affects mean error in a significant way.\n"
   ]
  },
  {
   "cell_type": "markdown",
   "id": "476879ee",
   "metadata": {},
   "source": [
    "## 4. Local Marker Analysis: One‐Way ANOVA Across Markers\n",
    "\n",
    "We ask: For a single pipeline (Plain ArUco without Kalman), do different markers produce significantly different mean errors?\n",
    "\n",
    "**Steps:**\n",
    "1. Load `plain_aruco_local.csv`, which contains `(frame, marker_id, roll, pitch, yaw)`.  \n",
    "2. Merge with GT local Euler (`rloc_x, rloc_y, rloc_z`) and `input_angle`.  \n",
    "3. Fit `error = pred_angle - input_angle` for each `(frame, marker_id)`.  \n",
    "4. Perform a one‐way ANOVA on `error` grouped by `marker_id`.\n"
   ]
  },
  {
   "cell_type": "code",
   "id": "9eebdb36",
   "metadata": {
    "ExecuteTime": {
     "end_time": "2025-06-05T02:13:07.616158Z",
     "start_time": "2025-06-05T02:13:07.585159Z"
    }
   },
   "source": [
    "# 4.1 Load and Convert GT local Rodrigues to Euler per marker\n",
    "df_gt_local = df_gt[['frame','marker_id','rloc_x','rloc_y','rloc_z','input_angle']].drop_duplicates(['frame','marker_id']).reset_index(drop=True)\n",
    "\n",
    "def rvecs_to_euler(rvec):\n",
    "    R, _ = cv2.Rodrigues(rvec.astype(np.float32))\n",
    "    sy = np.sqrt(R[0,0]**2 + R[1,0]**2)\n",
    "    if sy > 1e-6:\n",
    "        roll  = np.degrees(np.arctan2(R[2,1], R[2,2]))\n",
    "        pitch = np.degrees(np.arctan2(-R[2,0], sy))\n",
    "        yaw   = np.degrees(np.arctan2(R[1,0], R[0,0]))\n",
    "    else:\n",
    "        roll  = np.degrees(np.arctan2(-R[1,2], R[1,1]))\n",
    "        pitch = np.degrees(np.arctan2(-R[2,0], sy))\n",
    "        yaw   = 0.0\n",
    "    return roll, pitch, yaw\n",
    "\n",
    "rolling, pitching, yawing = [], [], []\n",
    "for vec in df_gt_local[['rloc_x','rloc_y','rloc_z']].to_numpy():\n",
    "    r, p, y_ = rvecs_to_euler(vec)\n",
    "    rolling.append(r); pitching.append(p); yawing.append(y_)\n",
    "df_gt_local['roll_gt'] = rolling\n",
    "df_gt_local['pitch_gt'] = pitching\n",
    "df_gt_local['yaw_gt'] = yawing\n"
   ],
   "outputs": [],
   "execution_count": 6
  },
  {
   "cell_type": "markdown",
   "id": "66895e94",
   "metadata": {},
   "source": [
    "### 4.2 Compute Errors for Each Marker (Plain ArUco, No Kalman)\n",
    "\n",
    "Load `plain_aruco_local.csv` and compute the error for each `(frame, marker_id)`.\n"
   ]
  },
  {
   "cell_type": "code",
   "id": "f269def9",
   "metadata": {
    "ExecuteTime": {
     "end_time": "2025-06-05T02:13:22.266055Z",
     "start_time": "2025-06-05T02:13:22.238054Z"
    }
   },
   "source": [
    "# Load plain ArUco local predictions\n",
    "df_local_pred = pd.read_csv('../plain_aruco_local.csv')\n",
    "\n",
    "# Merge GT local Euler with predicted local Euler\n",
    "df_pred_local_euler = df_local_pred[['frame','marker_id','roll','pitch','yaw']].rename(\n",
    "    columns={'roll':'roll_pred','pitch':'pitch_pred','yaw':'yaw_pred'}\n",
    ")\n",
    "df_merge_local = pd.merge(df_gt_local, df_pred_local_euler, on=['frame','marker_id'])\n",
    "\n",
    "# Fit regression per marker and collect errors\n",
    "marker_errors = {}\n",
    "marker_stats = []\n",
    "for mid in sorted(df_merge_local['marker_id'].unique()):\n",
    "    df_m = df_merge_local[df_merge_local['marker_id'] == mid].copy()\n",
    "    X_m = df_m[['roll_pred','pitch_pred','yaw_pred']].to_numpy()\n",
    "    y_m = df_m['input_angle'].to_numpy()\n",
    "    model_m = LinearRegression().fit(X_m, y_m)\n",
    "    df_m['pred_angle'] = model_m.predict(X_m)\n",
    "    df_m['error'] = df_m['pred_angle'] - df_m['input_angle']\n",
    "    errs_m = df_m['error'].values\n",
    "    marker_errors[mid] = errs_m\n",
    "    marker_stats.append({\n",
    "        'marker_id': mid,\n",
    "        'n': len(errs_m),\n",
    "        'mean_error': errs_m.mean(),\n",
    "        'std_error': errs_m.std(ddof=1)\n",
    "    })\n",
    "\n",
    "df_marker_stats = pd.DataFrame(marker_stats)\n",
    "print(\"### Marker‐Wise Error Statistics (Plain ArUco, No Kalman)\")\n",
    "df_marker_stats\n"
   ],
   "outputs": [
    {
     "name": "stdout",
     "output_type": "stream",
     "text": [
      "### Marker‐Wise Error Statistics (Plain ArUco, No Kalman)\n"
     ]
    },
    {
     "data": {
      "text/plain": [
       "   marker_id    n    mean_error  std_error\n",
       "0          2  262 -2.143561e-13  14.472648\n",
       "1          4  262 -8.678385e-16   2.703391\n",
       "2          8  155  9.168293e-16   4.928306\n",
       "3          9  260  1.377360e-14   2.561386\n",
       "4         10   27  5.526444e-15   6.056840"
      ],
      "text/html": [
       "<div>\n",
       "<style scoped>\n",
       "    .dataframe tbody tr th:only-of-type {\n",
       "        vertical-align: middle;\n",
       "    }\n",
       "\n",
       "    .dataframe tbody tr th {\n",
       "        vertical-align: top;\n",
       "    }\n",
       "\n",
       "    .dataframe thead th {\n",
       "        text-align: right;\n",
       "    }\n",
       "</style>\n",
       "<table border=\"1\" class=\"dataframe\">\n",
       "  <thead>\n",
       "    <tr style=\"text-align: right;\">\n",
       "      <th></th>\n",
       "      <th>marker_id</th>\n",
       "      <th>n</th>\n",
       "      <th>mean_error</th>\n",
       "      <th>std_error</th>\n",
       "    </tr>\n",
       "  </thead>\n",
       "  <tbody>\n",
       "    <tr>\n",
       "      <th>0</th>\n",
       "      <td>2</td>\n",
       "      <td>262</td>\n",
       "      <td>-2.143561e-13</td>\n",
       "      <td>14.472648</td>\n",
       "    </tr>\n",
       "    <tr>\n",
       "      <th>1</th>\n",
       "      <td>4</td>\n",
       "      <td>262</td>\n",
       "      <td>-8.678385e-16</td>\n",
       "      <td>2.703391</td>\n",
       "    </tr>\n",
       "    <tr>\n",
       "      <th>2</th>\n",
       "      <td>8</td>\n",
       "      <td>155</td>\n",
       "      <td>9.168293e-16</td>\n",
       "      <td>4.928306</td>\n",
       "    </tr>\n",
       "    <tr>\n",
       "      <th>3</th>\n",
       "      <td>9</td>\n",
       "      <td>260</td>\n",
       "      <td>1.377360e-14</td>\n",
       "      <td>2.561386</td>\n",
       "    </tr>\n",
       "    <tr>\n",
       "      <th>4</th>\n",
       "      <td>10</td>\n",
       "      <td>27</td>\n",
       "      <td>5.526444e-15</td>\n",
       "      <td>6.056840</td>\n",
       "    </tr>\n",
       "  </tbody>\n",
       "</table>\n",
       "</div>"
      ]
     },
     "execution_count": 8,
     "metadata": {},
     "output_type": "execute_result"
    }
   ],
   "execution_count": 8
  },
  {
   "cell_type": "markdown",
   "id": "90c30857",
   "metadata": {},
   "source": [
    "### 4.3 One‐Way ANOVA Across Markers\n",
    "\n",
    "Test whether mean error differs among markers (IDs).\n"
   ]
  },
  {
   "cell_type": "code",
   "id": "49638f71",
   "metadata": {
    "ExecuteTime": {
     "end_time": "2025-06-05T02:13:45.397502Z",
     "start_time": "2025-06-05T02:13:45.388501Z"
    }
   },
   "source": [
    "# Perform one-way ANOVA if we have multiple markers\n",
    "errors_list = [marker_errors[mid] for mid in sorted(marker_errors)]\n",
    "if len(errors_list) > 1:\n",
    "    f_stat_m, p_val_m = f_oneway(*errors_list)\n",
    "    print(f\"ANOVA (Across Markers): F = {f_stat_m:.4f}, p = {p_val_m:.4e}\")\n",
    "else:\n",
    "    print(\"Not enough markers to perform ANOVA.\")\n"
   ],
   "outputs": [
    {
     "name": "stdout",
     "output_type": "stream",
     "text": [
      "ANOVA (Across Markers): F = 0.0000, p = 1.0000e+00\n"
     ]
    }
   ],
   "execution_count": 9
  },
  {
   "cell_type": "markdown",
   "id": "32ad60cd",
   "metadata": {},
   "source": [
    "## 5. Conclusion\n",
    "\n",
    "- **Global Two‐Way ANOVA**: Evaluates main effects of Algorithm (Plain vs QC) and Kalman (No vs Yes), and their interaction, on angle‐prediction error.  \n",
    "  - Because the p‐values are all 1.0, none of the factors (algorithm, kalman, or their interaction) significantly affect the mean error. All four pipelines have virtually identical error distributions.  \n",
    "- **Local One‐Way ANOVA**: Tests whether mean error differs across marker IDs (for Plain ArUco without Kalman).  \n",
    "  - All marker means are effectively zero, so the ANOVA p‐value is ~1.0. No marker has a systematically different mean error.  \n",
    "- **Note on variances**: Although means are identical, the standard deviations vary (e.g., marker 9 is the most precise). If you wish to compare precision, consider comparing standard deviations or using Levene’s test rather than ANOVA on means.  \n"
   ]
  }
 ],
 "metadata": {},
 "nbformat": 4,
 "nbformat_minor": 5
}
